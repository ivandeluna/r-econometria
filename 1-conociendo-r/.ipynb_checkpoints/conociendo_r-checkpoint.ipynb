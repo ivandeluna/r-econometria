{
 "cells": [
  {
   "cell_type": "markdown",
   "metadata": {},
   "source": [
    "# Curso de R"
   ]
  },
  {
   "cell_type": "markdown",
   "metadata": {},
   "source": [
    "\n",
    "Este curso esta diseñado para que de manera introductoria quien lo lea entienda R y todo su potencial.\n",
    "\n",
    "R es un lenguaje de programación y ambiente de desarrollo para estadísticas y gráficos.\n",
    "\n",
    "La manera en como funciona es a través del **desarrollo colaborativo**, por lo cual se maneja mucho en \"paquetes\" o **librerías**.\n",
    "\n",
    "Cada librería es desarrollada por conocedores del tema o personas interesadas en desarrollar herramientas para uso personal y público, que deciden compartir sus avances.\n",
    "\n",
    "A raíz de esto, R suele ser complicado de entender ya que no todo está disponible a simple vista como otro software (SPSS, STATA, Minitab).\n",
    "\n",
    "Adicionalmente, R necesita que el usuario sepa de **manejo de datos** o tenga una noción de ello, ya que hace mucho uso (y es una de sus fortalezas) de data frames.\n",
    "\n"
   ]
  },
  {
   "cell_type": "markdown",
   "metadata": {},
   "source": [
    "Existen diversas maneras de conseguir R, una de ellas es a través del portal de CRAN:\n",
    "\n",
    "https://www.r-project.org/\n",
    "\n",
    "Pero se han hecho esfuerzos por hacer más amigable al usuario la plataforma que ofrece R, por lo cual tambíen se cuenta con RStudio:\n",
    "\n",
    "https://www.rstudio.com/products/rstudio/download/#download\n",
    "\n",
    "El cual cuenta con diversas versiónes de las cuales solo una es gratuita.\n",
    "\n",
    "Para este curso, si bien vamos a usar R, se recomienda instalar Anaconda, que es un paquete que incluye diversos software y lenguajes de programación como Python, Jupyter (donde esta hecho este documento), RStudio, entre otros.\n",
    "\n",
    "https://www.anaconda.com/download/\n",
    "\n",
    "Anaconda fue específicamente diseñado para lo que se conoce como **data science** o ciencias de datos, a lo cual le daremos énfasis en este curso.\n"
   ]
  },
  {
   "cell_type": "markdown",
   "metadata": {},
   "source": [
    "# Instalación"
   ]
  },
  {
   "cell_type": "markdown",
   "metadata": {},
   "source": [
    "1. Bajar Anaconda\n",
    "\n",
    "Se baja como cualquier otro software.\n",
    "\n",
    "2. Instalar Anaconda\n",
    "\n",
    "se instala como cualquier otro software siguiendo el tutorial.\n",
    "\n",
    "3. Instalar RStudio\n",
    "\n",
    "Anaconda dentro de su plataforma ofrece la posiblidad de actualizar los paquetes que se usan tanto en R como en Python, así como agregar otras soluciones como RStudio.\n",
    "\n",
    "![Pantalla Inicial de Anaconda Navigator](anaconda-inicio.png)\n",
    "\n",
    "Vienen diferentes Apps de inicio como spyder o jupyter, pero es necesario instalar RStudio, lo cual haremos.\n",
    "\n",
    "![Software instalado y no instalado](anaconda-apps.png)\n",
    "\n"
   ]
  },
  {
   "cell_type": "markdown",
   "metadata": {},
   "source": [
    "# R y RStudio"
   ]
  },
  {
   "cell_type": "markdown",
   "metadata": {},
   "source": [
    "RStudio es un Integrated Development Enviromnet o IDE. Este tipo de software ayuda a que los desarrolladores tengan más a la mano información sobre lo que hacen al ofrecer diversas herramientas en el mismo entorno.\n",
    "![](rstudio-general.png)\n",
    "\n",
    "\n",
    "La parte principal es Console y donde se desarrollan Scripts. Los scripts son archivos con instrucciones que se corren y son interpretados por la maquina, en este caso a través de R y su lenguaje de programación.\n",
    "\n",
    "Los Scripts nos ayudan a organizar algoritmos, archivos, programas, clases, entre otros.\n",
    "![](rstudio-script.png)\n",
    "\n",
    "La consola es la parte central de R y de cualquier otro lenguaje de programación, se pueden mandar instruccines linea por linea, lo cual lo hace más complicado de seguir a lo cual la solución son los scripts.\n",
    "\n",
    "![](rstudio-console.png)\n",
    "\n",
    "Para darle solución al manejo de scripts, variables, funciones, clases y data frames, existe la ventana de Environment:\n",
    "![](rstudio-environment.png)\n",
    "\n",
    "En History se tiene un registro de todo los comandos que ha corrido console, así de todos los mensajes de error y advertencias:\n",
    "![](rstudio-history.png)\n",
    "\n",
    "RStudio ofrece la posiblidad de trabajar en base a proyectos, los cuales implican que se manejen diferentes carpetas, archivos, scripts, etc. Para poder administrarlos de manera más eficiente existe la ventana de Files:\n",
    "![](rstudio-files.png)\n",
    "\n",
    "También dentro de la misma ventana, por default, vienen las pestañas de Plot, Packages, Help y Viewer, los cuales veremos a lo largo del curso."
   ]
  },
  {
   "cell_type": "markdown",
   "metadata": {},
   "source": [
    "# Datos"
   ]
  },
  {
   "cell_type": "markdown",
   "metadata": {},
   "source": [
    "Una de las fortalezas de R es que puede manejar datos de diversas maneras y manipularlos de acuerdo a como los interpreta, así como a organizarlos según su naturaleza.\n"
   ]
  },
  {
   "cell_type": "markdown",
   "metadata": {},
   "source": [
    "## Vectores"
   ]
  },
  {
   "cell_type": "markdown",
   "metadata": {},
   "source": [
    "Los vectores son la unidad más básica de datos, ya sea que sean de $1 x N$ o $N x 1$ o escalar de $1 x 1$, R reconoce los vectores según lo que contengan, ya sea números enteros $N$, números de punto flotante, decimales, caractéres o valores booleanos (TRUE o FALSE)."
   ]
  },
  {
   "cell_type": "code",
   "execution_count": null,
   "metadata": {
    "collapsed": true
   },
   "outputs": [],
   "source": [
    "a <- c(1,2,3,4,5)\n",
    "b <- c(\"Ana\",\"Daniel\",\"Victor\", \"Ivan\")\n",
    "c <- c(TRUE, FALSE, TRUE)\n",
    "\n",
    "a\n",
    "b\n",
    "c"
   ]
  },
  {
   "cell_type": "markdown",
   "metadata": {},
   "source": [
    "## Matrices"
   ]
  },
  {
   "cell_type": "markdown",
   "metadata": {},
   "source": [
    "Las matrices son vectores de tamaño $M x N$, a diferencia del dataframe, todos los valores dentro de una matríz deben de ser de la misma naturaleza (numero, carácter, booleano, etc)."
   ]
  },
  {
   "cell_type": "code",
   "execution_count": null,
   "metadata": {
    "collapsed": true
   },
   "outputs": [],
   "source": [
    "m1 <- matrix(1:20, nrow = 4, ncol = 5)\n",
    "\n",
    "m1"
   ]
  },
  {
   "cell_type": "markdown",
   "metadata": {},
   "source": [
    "## Arrays"
   ]
  },
  {
   "cell_type": "markdown",
   "metadata": {},
   "source": [
    "Los arrays son similares a las matrices, solo que contienen más dimensiones, como los cubos de $N x M x P$"
   ]
  },
  {
   "cell_type": "markdown",
   "metadata": {},
   "source": [
    "## Data Frames"
   ]
  },
  {
   "cell_type": "markdown",
   "metadata": {},
   "source": [
    "Los data frames son las más usadas dentro de R, ya que ayudan a organizar los datos de diversas maneras, con diferentes valores, así como aplicarles operaciones en conjunto."
   ]
  },
  {
   "cell_type": "code",
   "execution_count": null,
   "metadata": {
    "collapsed": true
   },
   "outputs": [],
   "source": [
    "a <- c(1,2,3,4)\n",
    "b <- c(\"Ana\", \"Daniel\",\"Victor\",\"Iván\")\n",
    "c <- c(\"Indicadores Sociodemográficos\",\"Indicadores Económicos\",\"Programación\",\"Investigación Estratégica\")\n",
    "\n",
    "df <- data.frame(a,b,c)\n",
    "names(df) <- c(\"id\",\"Nombre\",\"Puesto\")\n",
    "\n",
    "df"
   ]
  },
  {
   "cell_type": "markdown",
   "metadata": {},
   "source": [
    "## Listas o Lists"
   ]
  },
  {
   "cell_type": "markdown",
   "metadata": {},
   "source": [
    "Las listas son un conjunto ordenado o no ordenado de *cosas*, sin importar que sean o cual sea su naturaleza."
   ]
  },
  {
   "cell_type": "code",
   "execution_count": null,
   "metadata": {
    "collapsed": true
   },
   "outputs": [],
   "source": [
    "lista <- c(a, df, m1)\n",
    "\n",
    "lista"
   ]
  },
  {
   "cell_type": "markdown",
   "metadata": {},
   "source": [
    "## Factores"
   ]
  },
  {
   "cell_type": "markdown",
   "metadata": {},
   "source": [
    "Los factores, más que un tipo de dato, es una forma de organizarlos de tal manera que las variables nominales sean interpretadas por R como números o factores.\n",
    "\n",
    "Por ejemplo, al usar género como carácter, el usuarío tendría que considerarlas como tal.\n"
   ]
  },
  {
   "cell_type": "code",
   "execution_count": 30,
   "metadata": {},
   "outputs": [
    {
     "data": {
      "text/html": [
       "<ol class=list-inline>\n",
       "\t<li>'hombre'</li>\n",
       "\t<li>'hombre'</li>\n",
       "\t<li>'hombre'</li>\n",
       "\t<li>'hombre'</li>\n",
       "\t<li>'hombre'</li>\n",
       "\t<li>'hombre'</li>\n",
       "\t<li>'hombre'</li>\n",
       "\t<li>'hombre'</li>\n",
       "\t<li>'hombre'</li>\n",
       "\t<li>'hombre'</li>\n",
       "\t<li>'hombre'</li>\n",
       "\t<li>'hombre'</li>\n",
       "\t<li>'hombre'</li>\n",
       "\t<li>'hombre'</li>\n",
       "\t<li>'hombre'</li>\n",
       "\t<li>'hombre'</li>\n",
       "\t<li>'hombre'</li>\n",
       "\t<li>'hombre'</li>\n",
       "\t<li>'hombre'</li>\n",
       "\t<li>'hombre'</li>\n",
       "\t<li>'mujer'</li>\n",
       "\t<li>'mujer'</li>\n",
       "\t<li>'mujer'</li>\n",
       "\t<li>'mujer'</li>\n",
       "\t<li>'mujer'</li>\n",
       "\t<li>'mujer'</li>\n",
       "\t<li>'mujer'</li>\n",
       "\t<li>'mujer'</li>\n",
       "\t<li>'mujer'</li>\n",
       "\t<li>'mujer'</li>\n",
       "\t<li>'mujer'</li>\n",
       "\t<li>'mujer'</li>\n",
       "\t<li>'mujer'</li>\n",
       "\t<li>'mujer'</li>\n",
       "\t<li>'mujer'</li>\n",
       "\t<li>'mujer'</li>\n",
       "\t<li>'mujer'</li>\n",
       "\t<li>'mujer'</li>\n",
       "\t<li>'mujer'</li>\n",
       "\t<li>'mujer'</li>\n",
       "\t<li>'mujer'</li>\n",
       "\t<li>'mujer'</li>\n",
       "\t<li>'mujer'</li>\n",
       "\t<li>'mujer'</li>\n",
       "\t<li>'mujer'</li>\n",
       "\t<li>'mujer'</li>\n",
       "\t<li>'mujer'</li>\n",
       "\t<li>'mujer'</li>\n",
       "\t<li>'mujer'</li>\n",
       "\t<li>'mujer'</li>\n",
       "</ol>\n"
      ],
      "text/latex": [
       "\\begin{enumerate*}\n",
       "\\item 'hombre'\n",
       "\\item 'hombre'\n",
       "\\item 'hombre'\n",
       "\\item 'hombre'\n",
       "\\item 'hombre'\n",
       "\\item 'hombre'\n",
       "\\item 'hombre'\n",
       "\\item 'hombre'\n",
       "\\item 'hombre'\n",
       "\\item 'hombre'\n",
       "\\item 'hombre'\n",
       "\\item 'hombre'\n",
       "\\item 'hombre'\n",
       "\\item 'hombre'\n",
       "\\item 'hombre'\n",
       "\\item 'hombre'\n",
       "\\item 'hombre'\n",
       "\\item 'hombre'\n",
       "\\item 'hombre'\n",
       "\\item 'hombre'\n",
       "\\item 'mujer'\n",
       "\\item 'mujer'\n",
       "\\item 'mujer'\n",
       "\\item 'mujer'\n",
       "\\item 'mujer'\n",
       "\\item 'mujer'\n",
       "\\item 'mujer'\n",
       "\\item 'mujer'\n",
       "\\item 'mujer'\n",
       "\\item 'mujer'\n",
       "\\item 'mujer'\n",
       "\\item 'mujer'\n",
       "\\item 'mujer'\n",
       "\\item 'mujer'\n",
       "\\item 'mujer'\n",
       "\\item 'mujer'\n",
       "\\item 'mujer'\n",
       "\\item 'mujer'\n",
       "\\item 'mujer'\n",
       "\\item 'mujer'\n",
       "\\item 'mujer'\n",
       "\\item 'mujer'\n",
       "\\item 'mujer'\n",
       "\\item 'mujer'\n",
       "\\item 'mujer'\n",
       "\\item 'mujer'\n",
       "\\item 'mujer'\n",
       "\\item 'mujer'\n",
       "\\item 'mujer'\n",
       "\\item 'mujer'\n",
       "\\end{enumerate*}\n"
      ],
      "text/markdown": [
       "1. 'hombre'\n",
       "2. 'hombre'\n",
       "3. 'hombre'\n",
       "4. 'hombre'\n",
       "5. 'hombre'\n",
       "6. 'hombre'\n",
       "7. 'hombre'\n",
       "8. 'hombre'\n",
       "9. 'hombre'\n",
       "10. 'hombre'\n",
       "11. 'hombre'\n",
       "12. 'hombre'\n",
       "13. 'hombre'\n",
       "14. 'hombre'\n",
       "15. 'hombre'\n",
       "16. 'hombre'\n",
       "17. 'hombre'\n",
       "18. 'hombre'\n",
       "19. 'hombre'\n",
       "20. 'hombre'\n",
       "21. 'mujer'\n",
       "22. 'mujer'\n",
       "23. 'mujer'\n",
       "24. 'mujer'\n",
       "25. 'mujer'\n",
       "26. 'mujer'\n",
       "27. 'mujer'\n",
       "28. 'mujer'\n",
       "29. 'mujer'\n",
       "30. 'mujer'\n",
       "31. 'mujer'\n",
       "32. 'mujer'\n",
       "33. 'mujer'\n",
       "34. 'mujer'\n",
       "35. 'mujer'\n",
       "36. 'mujer'\n",
       "37. 'mujer'\n",
       "38. 'mujer'\n",
       "39. 'mujer'\n",
       "40. 'mujer'\n",
       "41. 'mujer'\n",
       "42. 'mujer'\n",
       "43. 'mujer'\n",
       "44. 'mujer'\n",
       "45. 'mujer'\n",
       "46. 'mujer'\n",
       "47. 'mujer'\n",
       "48. 'mujer'\n",
       "49. 'mujer'\n",
       "50. 'mujer'\n",
       "\n",
       "\n"
      ],
      "text/plain": [
       " [1] \"hombre\" \"hombre\" \"hombre\" \"hombre\" \"hombre\" \"hombre\" \"hombre\" \"hombre\"\n",
       " [9] \"hombre\" \"hombre\" \"hombre\" \"hombre\" \"hombre\" \"hombre\" \"hombre\" \"hombre\"\n",
       "[17] \"hombre\" \"hombre\" \"hombre\" \"hombre\" \"mujer\"  \"mujer\"  \"mujer\"  \"mujer\" \n",
       "[25] \"mujer\"  \"mujer\"  \"mujer\"  \"mujer\"  \"mujer\"  \"mujer\"  \"mujer\"  \"mujer\" \n",
       "[33] \"mujer\"  \"mujer\"  \"mujer\"  \"mujer\"  \"mujer\"  \"mujer\"  \"mujer\"  \"mujer\" \n",
       "[41] \"mujer\"  \"mujer\"  \"mujer\"  \"mujer\"  \"mujer\"  \"mujer\"  \"mujer\"  \"mujer\" \n",
       "[49] \"mujer\"  \"mujer\" "
      ]
     },
     "metadata": {},
     "output_type": "display_data"
    }
   ],
   "source": [
    "gen <- c(rep(\"hombre\",20), rep(\"mujer\", 30)) \n",
    "\n",
    "gen\n",
    "    "
   ]
  },
  {
   "cell_type": "code",
   "execution_count": 31,
   "metadata": {},
   "outputs": [
    {
     "data": {
      "text/html": [
       "<ol class=list-inline>\n",
       "\t<li>hombre</li>\n",
       "\t<li>hombre</li>\n",
       "\t<li>hombre</li>\n",
       "\t<li>hombre</li>\n",
       "\t<li>hombre</li>\n",
       "\t<li>hombre</li>\n",
       "\t<li>hombre</li>\n",
       "\t<li>hombre</li>\n",
       "\t<li>hombre</li>\n",
       "\t<li>hombre</li>\n",
       "\t<li>hombre</li>\n",
       "\t<li>hombre</li>\n",
       "\t<li>hombre</li>\n",
       "\t<li>hombre</li>\n",
       "\t<li>hombre</li>\n",
       "\t<li>hombre</li>\n",
       "\t<li>hombre</li>\n",
       "\t<li>hombre</li>\n",
       "\t<li>hombre</li>\n",
       "\t<li>hombre</li>\n",
       "\t<li>mujer</li>\n",
       "\t<li>mujer</li>\n",
       "\t<li>mujer</li>\n",
       "\t<li>mujer</li>\n",
       "\t<li>mujer</li>\n",
       "\t<li>mujer</li>\n",
       "\t<li>mujer</li>\n",
       "\t<li>mujer</li>\n",
       "\t<li>mujer</li>\n",
       "\t<li>mujer</li>\n",
       "\t<li>mujer</li>\n",
       "\t<li>mujer</li>\n",
       "\t<li>mujer</li>\n",
       "\t<li>mujer</li>\n",
       "\t<li>mujer</li>\n",
       "\t<li>mujer</li>\n",
       "\t<li>mujer</li>\n",
       "\t<li>mujer</li>\n",
       "\t<li>mujer</li>\n",
       "\t<li>mujer</li>\n",
       "\t<li>mujer</li>\n",
       "\t<li>mujer</li>\n",
       "\t<li>mujer</li>\n",
       "\t<li>mujer</li>\n",
       "\t<li>mujer</li>\n",
       "\t<li>mujer</li>\n",
       "\t<li>mujer</li>\n",
       "\t<li>mujer</li>\n",
       "\t<li>mujer</li>\n",
       "\t<li>mujer</li>\n",
       "</ol>\n"
      ],
      "text/latex": [
       "\\begin{enumerate*}\n",
       "\\item hombre\n",
       "\\item hombre\n",
       "\\item hombre\n",
       "\\item hombre\n",
       "\\item hombre\n",
       "\\item hombre\n",
       "\\item hombre\n",
       "\\item hombre\n",
       "\\item hombre\n",
       "\\item hombre\n",
       "\\item hombre\n",
       "\\item hombre\n",
       "\\item hombre\n",
       "\\item hombre\n",
       "\\item hombre\n",
       "\\item hombre\n",
       "\\item hombre\n",
       "\\item hombre\n",
       "\\item hombre\n",
       "\\item hombre\n",
       "\\item mujer\n",
       "\\item mujer\n",
       "\\item mujer\n",
       "\\item mujer\n",
       "\\item mujer\n",
       "\\item mujer\n",
       "\\item mujer\n",
       "\\item mujer\n",
       "\\item mujer\n",
       "\\item mujer\n",
       "\\item mujer\n",
       "\\item mujer\n",
       "\\item mujer\n",
       "\\item mujer\n",
       "\\item mujer\n",
       "\\item mujer\n",
       "\\item mujer\n",
       "\\item mujer\n",
       "\\item mujer\n",
       "\\item mujer\n",
       "\\item mujer\n",
       "\\item mujer\n",
       "\\item mujer\n",
       "\\item mujer\n",
       "\\item mujer\n",
       "\\item mujer\n",
       "\\item mujer\n",
       "\\item mujer\n",
       "\\item mujer\n",
       "\\item mujer\n",
       "\\end{enumerate*}\n"
      ],
      "text/markdown": [
       "1. hombre\n",
       "2. hombre\n",
       "3. hombre\n",
       "4. hombre\n",
       "5. hombre\n",
       "6. hombre\n",
       "7. hombre\n",
       "8. hombre\n",
       "9. hombre\n",
       "10. hombre\n",
       "11. hombre\n",
       "12. hombre\n",
       "13. hombre\n",
       "14. hombre\n",
       "15. hombre\n",
       "16. hombre\n",
       "17. hombre\n",
       "18. hombre\n",
       "19. hombre\n",
       "20. hombre\n",
       "21. mujer\n",
       "22. mujer\n",
       "23. mujer\n",
       "24. mujer\n",
       "25. mujer\n",
       "26. mujer\n",
       "27. mujer\n",
       "28. mujer\n",
       "29. mujer\n",
       "30. mujer\n",
       "31. mujer\n",
       "32. mujer\n",
       "33. mujer\n",
       "34. mujer\n",
       "35. mujer\n",
       "36. mujer\n",
       "37. mujer\n",
       "38. mujer\n",
       "39. mujer\n",
       "40. mujer\n",
       "41. mujer\n",
       "42. mujer\n",
       "43. mujer\n",
       "44. mujer\n",
       "45. mujer\n",
       "46. mujer\n",
       "47. mujer\n",
       "48. mujer\n",
       "49. mujer\n",
       "50. mujer\n",
       "\n",
       "\n"
      ],
      "text/plain": [
       " [1] hombre hombre hombre hombre hombre hombre hombre hombre hombre hombre\n",
       "[11] hombre hombre hombre hombre hombre hombre hombre hombre hombre hombre\n",
       "[21] mujer  mujer  mujer  mujer  mujer  mujer  mujer  mujer  mujer  mujer \n",
       "[31] mujer  mujer  mujer  mujer  mujer  mujer  mujer  mujer  mujer  mujer \n",
       "[41] mujer  mujer  mujer  mujer  mujer  mujer  mujer  mujer  mujer  mujer \n",
       "Levels: hombre mujer"
      ]
     },
     "metadata": {},
     "output_type": "display_data"
    }
   ],
   "source": [
    "gen.factor <- factor(gen)\n",
    "\n",
    "gen.factor"
   ]
  },
  {
   "cell_type": "code",
   "execution_count": 32,
   "metadata": {},
   "outputs": [
    {
     "data": {
      "text/plain": [
       "   Length     Class      Mode \n",
       "       50 character character "
      ]
     },
     "metadata": {},
     "output_type": "display_data"
    }
   ],
   "source": [
    "summary(gen)"
   ]
  },
  {
   "cell_type": "code",
   "execution_count": 33,
   "metadata": {},
   "outputs": [
    {
     "data": {
      "text/html": [
       "<dl class=dl-horizontal>\n",
       "\t<dt>hombre</dt>\n",
       "\t\t<dd>20</dd>\n",
       "\t<dt>mujer</dt>\n",
       "\t\t<dd>30</dd>\n",
       "</dl>\n"
      ],
      "text/latex": [
       "\\begin{description*}\n",
       "\\item[hombre] 20\n",
       "\\item[mujer] 30\n",
       "\\end{description*}\n"
      ],
      "text/markdown": [
       "hombre\n",
       ":   20mujer\n",
       ":   30\n",
       "\n"
      ],
      "text/plain": [
       "hombre  mujer \n",
       "    20     30 "
      ]
     },
     "metadata": {},
     "output_type": "display_data"
    }
   ],
   "source": [
    "summary(gen.factor)"
   ]
  },
  {
   "cell_type": "markdown",
   "metadata": {
    "collapsed": true
   },
   "source": [
    "# Empezando R"
   ]
  },
  {
   "cell_type": "markdown",
   "metadata": {},
   "source": [
    "Una de las mayores ventajas de R es su capacidad para manejar datos a gran escala y su facilidad para crear gráficas a partir de ellos. Pero esto viene a un costo para el usuario, haciendolo complejo de aprender por su manera de hacer las cosas en base a comandos  (ya que es un lenguaje de programación basado en C/C++) y al manejo de las diferentes partes en archivos o scripts.\n",
    "\n",
    "Para facilitar esto se han creado herramientas como RStudio.\n",
    "\n",
    "RStudio no hace nada diferente a R, su ventaja esta en que es más visual y ayuda al usuario a saber donde estan las cosas y en que se quedó. Esto lo logra a través del uso de *imagenes* que se van guardando segun lo prefiera el usuario.\n",
    "\n",
    "Otra ayuda que ofrece RStudio es el manejo de directorios de manera más visual.\n",
    "\n",
    "Para saber en que directorio se trabaja se usa el comando $getwd()$ o *get working directory*"
   ]
  },
  {
   "cell_type": "code",
   "execution_count": null,
   "metadata": {
    "collapsed": true
   },
   "outputs": [],
   "source": [
    "getwd()"
   ]
  },
  {
   "cell_type": "markdown",
   "metadata": {},
   "source": [
    "Para establecer otro directorio se usa el comando $setwd()$"
   ]
  },
  {
   "cell_type": "code",
   "execution_count": null,
   "metadata": {
    "collapsed": true
   },
   "outputs": [],
   "source": [
    "setwd(\"~/GitHub/curso-r-latex/Curso R y ams-math o math mode/scripts\")"
   ]
  },
  {
   "cell_type": "code",
   "execution_count": null,
   "metadata": {
    "collapsed": true
   },
   "outputs": [],
   "source": [
    "getwd()"
   ]
  },
  {
   "cell_type": "markdown",
   "metadata": {},
   "source": [
    "En este caso estamos trabajando en jupyter y RStudio, jupyter es una interface que nos ayuda a realizar documentos listos para su uso web, como ahora, e integra los comandos de R y Python. Cada archivo de jupyter es un cuaderno, pero los comandos funcionan de manera similar en R y RStudio.\n",
    "\n",
    "Para empezar a trabajar haremos un tabla y una gráfica, nos apoyaremos de la documentación que ofrecen los paquetes o librerías.\n",
    "\n",
    "Otra de las ventajas de R y Python es este manejo de librerias creadas por usuarios expertos en el tema. Lo cual hace posible que no sea necesario crear otro script o desarrollar algún paquete y se pueden integrar de otras existentes. Dichas librerias son consultadas y llevan un proceso de publicación para estar disponibles en el CRAN.\n",
    "\n",
    "Para hacer el primer ejercicio usaremos un archivo *roboscasa.csv*, el cual guardaremos en un directorio para trabajar.\n",
    "\n",
    "Primero hay que importar el archivo a un dataframe, R ofrece diversas posibilidades para importar datos con el comando *read.xxxx* donde xxxx especifica el tipo de archivo que se busca importar, en este caso es un csv pero tambíen existe la posiblidad de importar datos directo de una BD, clipboard/portapapeles o excel, entre otros.\n",
    "\n",
    "Para facilitar la manipulación de datos y el trabajo entre excel y R, RStudio ofrece ayuda para poder importar datos directamente desde excel con una función dentro del panel de environment.\n",
    "\n",
    "![Import Data](rstudio-importdata.png)\n",
    "\n",
    "Este wizard o ayuda nos sirve para poder especificar el tipo de datos, si usa fechas o si contiene NA o valores nulos.\n",
    "\n",
    "![Import Data Ventana](rstudio-importdata2.png)\n",
    "\n",
    "\n",
    "O tambíen se puede hacer mediante código, a lo cual existen muchas maneras (funciones)."
   ]
  },
  {
   "cell_type": "code",
   "execution_count": 7,
   "metadata": {},
   "outputs": [
    {
     "name": "stderr",
     "output_type": "stream",
     "text": [
      "Warning message in read_fun(path = path, sheet = sheet, limits = limits, shim = shim, :\n",
      "\"Expecting numeric in E47 / R47C5: got 'NA'\""
     ]
    }
   ],
   "source": [
    "library(readxl)\n",
    "\n",
    "roboscasa <- read_excel(\"roboscasa.xlsx\",\n",
    "                        col_types = c(\"date\",      # Fecha\n",
    "                                      \"numeric\",   # Torreón\n",
    "                                      \"numeric\",   # Gomez\n",
    "                                      \"numeric\",   # Lerdo\n",
    "                                      \"numeric\"))  # Matamoros\n",
    "\n"
   ]
  },
  {
   "cell_type": "markdown",
   "metadata": {},
   "source": [
    "Una vez cargados los datos, podemos hacer uso de ellos mediante las diversas funciones o librerias.\n",
    "\n",
    "Para installar una librería se usa el comando $install.packages()$, para esta caso usaremos varias como plotly, ggplot2, reshape, etc...\n",
    "\n",
    "RStudio nos ofrece un directorio de paquetes disponibles mediante el CRAN, así como una ventana para ayuda de cada paquete."
   ]
  },
  {
   "cell_type": "code",
   "execution_count": 11,
   "metadata": {},
   "outputs": [
    {
     "ename": "ERROR",
     "evalue": "Error in contrib.url(repos, \"source\"): trying to use CRAN without setting a mirror\n",
     "output_type": "error",
     "traceback": [
      "Error in contrib.url(repos, \"source\"): trying to use CRAN without setting a mirror\nTraceback:\n",
      "1. install.packages(c(\"plotly\", \"reshape\"))",
      "2. contrib.url(repos, \"source\")",
      "3. stop(\"trying to use CRAN without setting a mirror\")"
     ]
    }
   ],
   "source": [
    "install.packages(c(\"plotly\",\"reshape\")) #Es necesario usar estos comandos en RStudio.\n"
   ]
  },
  {
   "cell_type": "markdown",
   "metadata": {},
   "source": [
    "Cuando ya se cuentan con las librerias instaladas, a lo cual también nos sirve Anaconda, para hacer uso de ella dentro de un script usamos la funcion $library$"
   ]
  },
  {
   "cell_type": "code",
   "execution_count": 13,
   "metadata": {},
   "outputs": [
    {
     "name": "stderr",
     "output_type": "stream",
     "text": [
      "Warning message:\n",
      "\"package 'plotly' was built under R version 3.4.3\"\n",
      "Attaching package: 'plotly'\n",
      "\n",
      "The following objects are masked from 'package:plyr':\n",
      "\n",
      "    arrange, mutate, rename, summarise\n",
      "\n",
      "The following object is masked from 'package:ggplot2':\n",
      "\n",
      "    last_plot\n",
      "\n",
      "The following object is masked from 'package:stats':\n",
      "\n",
      "    filter\n",
      "\n",
      "The following object is masked from 'package:graphics':\n",
      "\n",
      "    layout\n",
      "\n"
     ]
    }
   ],
   "source": [
    "library(gdata)\n",
    "library(ggplot2)\n",
    "library(plyr)\n",
    "library(reshape2)\n",
    "library(readxl)\n",
    "library(plotly)"
   ]
  },
  {
   "cell_type": "markdown",
   "metadata": {},
   "source": [
    "Una vez que ya tenemos datos y librerias, podemos hacer diversas funciones como\n",
    "checar el contenido de nuestras variables o dataframes.\n",
    "\n",
    "$head()$ nos permite ver las primeras lineas de las tablas que le especificamos\n",
    "\n",
    "$summary()$ nos da un resumen (media, cuartiles, promedio, cantidad de valores nulos, cantidad de valores) de las diversas variables que integran nuestros datos.\n",
    "\n",
    "$ls()$ nos da una lista de las variables de los datos."
   ]
  },
  {
   "cell_type": "code",
   "execution_count": 14,
   "metadata": {},
   "outputs": [
    {
     "data": {
      "text/html": [
       "<table>\n",
       "<thead><tr><th scope=col>Fecha</th><th scope=col>Torreon</th><th scope=col>Gomez</th><th scope=col>Lerdo</th><th scope=col>Matamoros</th></tr></thead>\n",
       "<tbody>\n",
       "\t<tr><td>2014-01-31</td><td> 70       </td><td>26        </td><td>17        </td><td> 8        </td></tr>\n",
       "\t<tr><td>2014-02-28</td><td> 65       </td><td>24        </td><td>18        </td><td> 6        </td></tr>\n",
       "\t<tr><td>2014-03-31</td><td> 73       </td><td>28        </td><td>16        </td><td> 5        </td></tr>\n",
       "\t<tr><td>2014-04-30</td><td> 67       </td><td>22        </td><td> 8        </td><td>10        </td></tr>\n",
       "\t<tr><td>2014-05-31</td><td>108       </td><td>25        </td><td> 6        </td><td> 5        </td></tr>\n",
       "\t<tr><td>2014-06-30</td><td> 54       </td><td>18        </td><td>12        </td><td> 7        </td></tr>\n",
       "</tbody>\n",
       "</table>\n"
      ],
      "text/latex": [
       "\\begin{tabular}{r|lllll}\n",
       " Fecha & Torreon & Gomez & Lerdo & Matamoros\\\\\n",
       "\\hline\n",
       "\t 2014-01-31 &  70        & 26         & 17         &  8        \\\\\n",
       "\t 2014-02-28 &  65        & 24         & 18         &  6        \\\\\n",
       "\t 2014-03-31 &  73        & 28         & 16         &  5        \\\\\n",
       "\t 2014-04-30 &  67        & 22         &  8         & 10        \\\\\n",
       "\t 2014-05-31 & 108        & 25         &  6         &  5        \\\\\n",
       "\t 2014-06-30 &  54        & 18         & 12         &  7        \\\\\n",
       "\\end{tabular}\n"
      ],
      "text/markdown": [
       "\n",
       "Fecha | Torreon | Gomez | Lerdo | Matamoros | \n",
       "|---|---|---|---|---|---|\n",
       "| 2014-01-31 |  70        | 26         | 17         |  8         | \n",
       "| 2014-02-28 |  65        | 24         | 18         |  6         | \n",
       "| 2014-03-31 |  73        | 28         | 16         |  5         | \n",
       "| 2014-04-30 |  67        | 22         |  8         | 10         | \n",
       "| 2014-05-31 | 108        | 25         |  6         |  5         | \n",
       "| 2014-06-30 |  54        | 18         | 12         |  7         | \n",
       "\n",
       "\n"
      ],
      "text/plain": [
       "  Fecha      Torreon Gomez Lerdo Matamoros\n",
       "1 2014-01-31  70     26    17     8       \n",
       "2 2014-02-28  65     24    18     6       \n",
       "3 2014-03-31  73     28    16     5       \n",
       "4 2014-04-30  67     22     8    10       \n",
       "5 2014-05-31 108     25     6     5       \n",
       "6 2014-06-30  54     18    12     7       "
      ]
     },
     "metadata": {},
     "output_type": "display_data"
    }
   ],
   "source": [
    "head(roboscasa)"
   ]
  },
  {
   "cell_type": "code",
   "execution_count": 15,
   "metadata": {},
   "outputs": [
    {
     "data": {
      "text/plain": [
       "     Fecha                        Torreon           Gomez           Lerdo      \n",
       " Min.   :2014-01-31 00:00:00   Min.   : 26.00   Min.   :18.00   Min.   : 5.00  \n",
       " 1st Qu.:2015-01-07 18:00:00   1st Qu.: 42.50   1st Qu.:26.25   1st Qu.: 9.00  \n",
       " Median :2015-12-15 12:00:00   Median : 56.50   Median :32.00   Median :12.50  \n",
       " Mean   :2015-12-15 10:26:05   Mean   : 56.61   Mean   :32.46   Mean   :13.43  \n",
       " 3rd Qu.:2016-11-22 12:00:00   3rd Qu.: 66.50   3rd Qu.:37.50   3rd Qu.:16.75  \n",
       " Max.   :2017-10-31 00:00:00   Max.   :108.00   Max.   :63.00   Max.   :30.00  \n",
       "                                                                               \n",
       "   Matamoros \n",
       " Min.   : 0  \n",
       " 1st Qu.: 4  \n",
       " Median : 6  \n",
       " Mean   : 6  \n",
       " 3rd Qu.: 8  \n",
       " Max.   :13  \n",
       " NA's   :1   "
      ]
     },
     "metadata": {},
     "output_type": "display_data"
    }
   ],
   "source": [
    "summary(roboscasa)"
   ]
  },
  {
   "cell_type": "code",
   "execution_count": 16,
   "metadata": {},
   "outputs": [
    {
     "data": {
      "text/html": [
       "<ol class=list-inline>\n",
       "\t<li>'Fecha'</li>\n",
       "\t<li>'Gomez'</li>\n",
       "\t<li>'Lerdo'</li>\n",
       "\t<li>'Matamoros'</li>\n",
       "\t<li>'Torreon'</li>\n",
       "</ol>\n"
      ],
      "text/latex": [
       "\\begin{enumerate*}\n",
       "\\item 'Fecha'\n",
       "\\item 'Gomez'\n",
       "\\item 'Lerdo'\n",
       "\\item 'Matamoros'\n",
       "\\item 'Torreon'\n",
       "\\end{enumerate*}\n"
      ],
      "text/markdown": [
       "1. 'Fecha'\n",
       "2. 'Gomez'\n",
       "3. 'Lerdo'\n",
       "4. 'Matamoros'\n",
       "5. 'Torreon'\n",
       "\n",
       "\n"
      ],
      "text/plain": [
       "[1] \"Fecha\"     \"Gomez\"     \"Lerdo\"     \"Matamoros\" \"Torreon\"  "
      ]
     },
     "metadata": {},
     "output_type": "display_data"
    }
   ],
   "source": [
    "ls(roboscasa)"
   ]
  },
  {
   "cell_type": "markdown",
   "metadata": {},
   "source": [
    "Podemos hacer gráficas simples con los comandos de plot() o plot.ts()"
   ]
  },
  {
   "cell_type": "code",
   "execution_count": 18,
   "metadata": {},
   "outputs": [
    {
     "data": {
      "image/png": "[encoded data removed]",
      "text/plain": [
       "plot without title"
      ]
     },
     "metadata": {},
     "output_type": "display_data"
    }
   ],
   "source": [
    "plot(roboscasa)"
   ]
  },
  {
   "cell_type": "markdown",
   "metadata": {},
   "source": [
    "o podemos hacer uso de otras librerías como ggplot/ggplot2 o plotly para hacer gráficas más visuales\n",
    "\n",
    "Para el siguiente ejemplo, con los mismos datos, vamos a hacer un poco de cambios a las tablas declarando otra variable $robos$ y aplicandole la función $melt()$.\n",
    "\n",
    "Esta función lo que hace es cambiar la tabla o dataframe que tenemos $roboscasa$ a un formato que se denomina **largo**, el cual ayuda en términos de interpretación de datos a la computadora al ofrecer en forma de lista todos los datos de una tabla.\n",
    "\n"
   ]
  },
  {
   "cell_type": "code",
   "execution_count": 23,
   "metadata": {},
   "outputs": [
    {
     "data": {
      "text/html": [
       "<table>\n",
       "<thead><tr><th scope=col>Fecha</th><th scope=col>variable</th><th scope=col>value</th></tr></thead>\n",
       "<tbody>\n",
       "\t<tr><td>2014-01-31</td><td>Torreon   </td><td> 70       </td></tr>\n",
       "\t<tr><td>2014-02-28</td><td>Torreon   </td><td> 65       </td></tr>\n",
       "\t<tr><td>2014-03-31</td><td>Torreon   </td><td> 73       </td></tr>\n",
       "\t<tr><td>2014-04-30</td><td>Torreon   </td><td> 67       </td></tr>\n",
       "\t<tr><td>2014-05-31</td><td>Torreon   </td><td>108       </td></tr>\n",
       "\t<tr><td>2014-06-30</td><td>Torreon   </td><td> 54       </td></tr>\n",
       "</tbody>\n",
       "</table>\n"
      ],
      "text/latex": [
       "\\begin{tabular}{r|lll}\n",
       " Fecha & variable & value\\\\\n",
       "\\hline\n",
       "\t 2014-01-31 & Torreon    &  70       \\\\\n",
       "\t 2014-02-28 & Torreon    &  65       \\\\\n",
       "\t 2014-03-31 & Torreon    &  73       \\\\\n",
       "\t 2014-04-30 & Torreon    &  67       \\\\\n",
       "\t 2014-05-31 & Torreon    & 108       \\\\\n",
       "\t 2014-06-30 & Torreon    &  54       \\\\\n",
       "\\end{tabular}\n"
      ],
      "text/markdown": [
       "\n",
       "Fecha | variable | value | \n",
       "|---|---|---|---|---|---|\n",
       "| 2014-01-31 | Torreon    |  70        | \n",
       "| 2014-02-28 | Torreon    |  65        | \n",
       "| 2014-03-31 | Torreon    |  73        | \n",
       "| 2014-04-30 | Torreon    |  67        | \n",
       "| 2014-05-31 | Torreon    | 108        | \n",
       "| 2014-06-30 | Torreon    |  54        | \n",
       "\n",
       "\n"
      ],
      "text/plain": [
       "  Fecha      variable value\n",
       "1 2014-01-31 Torreon   70  \n",
       "2 2014-02-28 Torreon   65  \n",
       "3 2014-03-31 Torreon   73  \n",
       "4 2014-04-30 Torreon   67  \n",
       "5 2014-05-31 Torreon  108  \n",
       "6 2014-06-30 Torreon   54  "
      ]
     },
     "metadata": {},
     "output_type": "display_data"
    }
   ],
   "source": [
    "robos <-melt(roboscasa, id = \"Fecha\")\n",
    "\n",
    "head(robos)"
   ]
  },
  {
   "cell_type": "code",
   "execution_count": 20,
   "metadata": {},
   "outputs": [
    {
     "name": "stderr",
     "output_type": "stream",
     "text": [
      "Warning message:\n",
      "\"Removed 1 rows containing missing values (geom_path).\""
     ]
    },
    {
     "data": {},
     "metadata": {},
     "output_type": "display_data"
    },
    {
     "data": {
      "image/png": "[encoded data removed]",
      "text/plain": [
       "plot without title"
      ]
     },
     "metadata": {},
     "output_type": "display_data"
    }
   ],
   "source": [
    "qplot(Fecha, value, data = robos, geom = \"line\", group = variable) +\n",
    "  facet_grid(variable ~., scale = \"free_y\") +\n",
    "  theme_bw() +\n",
    "  ggtitle(\"Robos a casa habitación por ciudad\") +\n",
    "  xlab(\"Año\") +\n",
    "  ylab(\"Número de robos\")"
   ]
  },
  {
   "cell_type": "code",
   "execution_count": 22,
   "metadata": {},
   "outputs": [
    {
     "name": "stderr",
     "output_type": "stream",
     "text": [
      "We recommend that you use the dev version of ggplot2 with `ggplotly()`\n",
      "Install it with: `devtools::install_github('hadley/ggplot2')`\n",
      "IOPub data rate exceeded.\n",
      "The notebook server will temporarily stop sending output\n",
      "to the client in order to avoid crashing it.\n",
      "To change this limit, set the config variable\n",
      "`--NotebookApp.iopub_data_rate_limit`.\n"
     ]
    }
   ],
   "source": [
    "ggplotly()"
   ]
  },
  {
   "cell_type": "markdown",
   "metadata": {},
   "source": [
    "R también contiene librerias y funciones para hacer análisis estadísticos, como primer ejercicio usaremos una regresión lineal con los datos que tenemos.\n",
    "\n",
    "Para hacer una regresión podemos usar diferentes comandos pero la más usual es la funcion $lm()$.\n",
    "\n",
    "Aquí haremos uso de las *listas*, así que asignaremos a la variable **r** los resultados de correr la función $lm()$."
   ]
  },
  {
   "cell_type": "code",
   "execution_count": 25,
   "metadata": {},
   "outputs": [
    {
     "data": {
      "text/plain": [
       "\n",
       "Call:\n",
       "lm(formula = Torreon ~ Gomez + Lerdo + Matamoros, data = roboscasa)\n",
       "\n",
       "Coefficients:\n",
       "(Intercept)        Gomez        Lerdo    Matamoros  \n",
       "   63.91821     -0.29894     -0.08449      0.67829  \n"
      ]
     },
     "metadata": {},
     "output_type": "display_data"
    }
   ],
   "source": [
    "reg <- lm(Torreon ~ Gomez + Lerdo + Matamoros, data = roboscasa)\n",
    "\n",
    "# Para poder ver el contenido de r es necesario llamarlo\n",
    "\n",
    "reg"
   ]
  },
  {
   "cell_type": "markdown",
   "metadata": {},
   "source": [
    "La manera en como trabaja R es en base a la simplicidad, es por eso que al llamar los resultados de la regresión, nos muestra un resumen de ello, el cual son los parámetros especificados y los resultados de los coeficientes estimados.\n",
    "\n",
    "Para poder ver a mayor detalle los resultados de la regrsión, podemos usar la función $summary()$."
   ]
  },
  {
   "cell_type": "code",
   "execution_count": 26,
   "metadata": {},
   "outputs": [
    {
     "data": {
      "text/plain": [
       "\n",
       "Call:\n",
       "lm(formula = Torreon ~ Gomez + Lerdo + Matamoros, data = roboscasa)\n",
       "\n",
       "Residuals:\n",
       "    Min      1Q  Median      3Q     Max \n",
       "-30.444 -11.684   1.669   7.802  48.671 \n",
       "\n",
       "Coefficients:\n",
       "            Estimate Std. Error t value Pr(>|t|)    \n",
       "(Intercept) 63.91821   11.59689   5.512 2.14e-06 ***\n",
       "Gomez       -0.29894    0.30611  -0.977    0.335    \n",
       "Lerdo       -0.08449    0.45282  -0.187    0.853    \n",
       "Matamoros    0.67829    0.71941   0.943    0.351    \n",
       "---\n",
       "Signif. codes:  0 '***' 0.001 '**' 0.01 '*' 0.05 '.' 0.1 ' ' 1\n",
       "\n",
       "Residual standard error: 16.47 on 41 degrees of freedom\n",
       "  (1 observation deleted due to missingness)\n",
       "Multiple R-squared:  0.04929,\tAdjusted R-squared:  -0.02027 \n",
       "F-statistic: 0.7086 on 3 and 41 DF,  p-value: 0.5524\n"
      ]
     },
     "metadata": {},
     "output_type": "display_data"
    }
   ],
   "source": [
    "summary(reg)"
   ]
  },
  {
   "cell_type": "markdown",
   "metadata": {},
   "source": [
    "Para poder interpretar una regresión es necesario saber que es lo que hace y como se especifica. Para este caso queremos saber en qué medida se relacionan los robos a casa habitación de la ciudad de Torreón con los de las otras ciudades de la ZML.\n",
    "\n",
    "Para ello dentro de la funcion lm() necesitamos especificar una variable dependiente, en este caso $Torreon$ y con el operador $~$ asignarle las variables independientes $Gomez$ , $Lerdo$ y $Matamoros$, tambíen le especificamos de dónde vamos a sacar estos datos con $ data = roboscasa $\n",
    "\n",
    "Los resultados que nos da se pueden ver uno por uno con diferentes funciones como residuals() o coefficientes().\n",
    "\n"
   ]
  },
  {
   "cell_type": "code",
   "execution_count": 28,
   "metadata": {},
   "outputs": [
    {
     "data": {
      "text/html": [
       "<dl class=dl-horizontal>\n",
       "\t<dt>1</dt>\n",
       "\t\t<dd>9.86429659475642</dd>\n",
       "\t<dt>2</dt>\n",
       "\t\t<dd>5.7074918378284</dd>\n",
       "\t<dt>3</dt>\n",
       "\t\t<dd>15.412552621281</dd>\n",
       "\t<dt>4</dt>\n",
       "\t\t<dd>3.55151321120417</dd>\n",
       "\t<dt>5</dt>\n",
       "\t\t<dd>48.6707954531242</dd>\n",
       "\t<dt>6</dt>\n",
       "\t\t<dd>-8.27139885726578</dd>\n",
       "\t<dt>7</dt>\n",
       "\t\t<dd>-1.86937752258511</dd>\n",
       "\t<dt>8</dt>\n",
       "\t\t<dd>17.866553681963</dd>\n",
       "\t<dt>9</dt>\n",
       "\t\t<dd>20.9552126112593</dd>\n",
       "\t<dt>10</dt>\n",
       "\t\t<dd>0.598714472911375</dd>\n",
       "\t<dt>11</dt>\n",
       "\t\t<dd>-15.117098296016</dd>\n",
       "\t<dt>12</dt>\n",
       "\t\t<dd>-24.0139993371358</dd>\n",
       "\t<dt>13</dt>\n",
       "\t\t<dd>7.34506818497183</dd>\n",
       "\t<dt>14</dt>\n",
       "\t\t<dd>15.4027915050913</dd>\n",
       "\t<dt>15</dt>\n",
       "\t\t<dd>-17.463239114933</dd>\n",
       "\t<dt>16</dt>\n",
       "\t\t<dd>7.80232582550289</dd>\n",
       "\t<dt>17</dt>\n",
       "\t\t<dd>4.54492630537289</dd>\n",
       "\t<dt>18</dt>\n",
       "\t\t<dd>-6.17073890598256</dd>\n",
       "\t<dt>19</dt>\n",
       "\t\t<dd>11.321471865797</dd>\n",
       "\t<dt>20</dt>\n",
       "\t\t<dd>13.8788189938311</dd>\n",
       "\t<dt>21</dt>\n",
       "\t\t<dd>-5.75001291117451</dd>\n",
       "\t<dt>22</dt>\n",
       "\t\t<dd>14.2222908780884</dd>\n",
       "\t<dt>23</dt>\n",
       "\t\t<dd>-16.0847317299365</dd>\n",
       "\t<dt>24</dt>\n",
       "\t\t<dd>-18.0270084098171</dd>\n",
       "\t<dt>25</dt>\n",
       "\t\t<dd>-2.66226248167269</dd>\n",
       "\t<dt>26</dt>\n",
       "\t\t<dd>-26.9856502931279</dd>\n",
       "\t<dt>27</dt>\n",
       "\t\t<dd>7.72365793945886</dd>\n",
       "\t<dt>28</dt>\n",
       "\t\t<dd>-14.7881316294239</dd>\n",
       "\t<dt>29</dt>\n",
       "\t\t<dd>2.65768682954294</dd>\n",
       "\t<dt>30</dt>\n",
       "\t\t<dd>-7.79789274561365</dd>\n",
       "\t<dt>31</dt>\n",
       "\t\t<dd>-18.7646176797397</dd>\n",
       "\t<dt>32</dt>\n",
       "\t\t<dd>-16.7994884414975</dd>\n",
       "\t<dt>33</dt>\n",
       "\t\t<dd>7.25997813207776</dd>\n",
       "\t<dt>34</dt>\n",
       "\t\t<dd>-11.6840418012586</dd>\n",
       "\t<dt>35</dt>\n",
       "\t\t<dd>-30.4443217091523</dd>\n",
       "\t<dt>36</dt>\n",
       "\t\t<dd>-11.4346601438625</dd>\n",
       "\t<dt>37</dt>\n",
       "\t\t<dd>1.83676512300065</dd>\n",
       "\t<dt>38</dt>\n",
       "\t\t<dd>-7.33966141720677</dd>\n",
       "\t<dt>39</dt>\n",
       "\t\t<dd>29.4165529619433</dd>\n",
       "\t<dt>40</dt>\n",
       "\t\t<dd>5.9024067549541</dd>\n",
       "\t<dt>41</dt>\n",
       "\t\t<dd>-10.639509474211</dd>\n",
       "\t<dt>42</dt>\n",
       "\t\t<dd>25.6287244008845</dd>\n",
       "\t<dt>43</dt>\n",
       "\t\t<dd>5.50102963018678</dd>\n",
       "\t<dt>44</dt>\n",
       "\t\t<dd>1.6692392058605</dd>\n",
       "\t<dt>45</dt>\n",
       "\t\t<dd>-12.6330221192796</dd>\n",
       "</dl>\n"
      ],
      "text/latex": [
       "\\begin{description*}\n",
       "\\item[1] 9.86429659475642\n",
       "\\item[2] 5.7074918378284\n",
       "\\item[3] 15.412552621281\n",
       "\\item[4] 3.55151321120417\n",
       "\\item[5] 48.6707954531242\n",
       "\\item[6] -8.27139885726578\n",
       "\\item[7] -1.86937752258511\n",
       "\\item[8] 17.866553681963\n",
       "\\item[9] 20.9552126112593\n",
       "\\item[10] 0.598714472911375\n",
       "\\item[11] -15.117098296016\n",
       "\\item[12] -24.0139993371358\n",
       "\\item[13] 7.34506818497183\n",
       "\\item[14] 15.4027915050913\n",
       "\\item[15] -17.463239114933\n",
       "\\item[16] 7.80232582550289\n",
       "\\item[17] 4.54492630537289\n",
       "\\item[18] -6.17073890598256\n",
       "\\item[19] 11.321471865797\n",
       "\\item[20] 13.8788189938311\n",
       "\\item[21] -5.75001291117451\n",
       "\\item[22] 14.2222908780884\n",
       "\\item[23] -16.0847317299365\n",
       "\\item[24] -18.0270084098171\n",
       "\\item[25] -2.66226248167269\n",
       "\\item[26] -26.9856502931279\n",
       "\\item[27] 7.72365793945886\n",
       "\\item[28] -14.7881316294239\n",
       "\\item[29] 2.65768682954294\n",
       "\\item[30] -7.79789274561365\n",
       "\\item[31] -18.7646176797397\n",
       "\\item[32] -16.7994884414975\n",
       "\\item[33] 7.25997813207776\n",
       "\\item[34] -11.6840418012586\n",
       "\\item[35] -30.4443217091523\n",
       "\\item[36] -11.4346601438625\n",
       "\\item[37] 1.83676512300065\n",
       "\\item[38] -7.33966141720677\n",
       "\\item[39] 29.4165529619433\n",
       "\\item[40] 5.9024067549541\n",
       "\\item[41] -10.639509474211\n",
       "\\item[42] 25.6287244008845\n",
       "\\item[43] 5.50102963018678\n",
       "\\item[44] 1.6692392058605\n",
       "\\item[45] -12.6330221192796\n",
       "\\end{description*}\n"
      ],
      "text/markdown": [
       "1\n",
       ":   9.864296594756422\n",
       ":   5.70749183782843\n",
       ":   15.4125526212814\n",
       ":   3.551513211204175\n",
       ":   48.67079545312426\n",
       ":   -8.271398857265787\n",
       ":   -1.869377522585118\n",
       ":   17.8665536819639\n",
       ":   20.955212611259310\n",
       ":   0.59871447291137511\n",
       ":   -15.11709829601612\n",
       ":   -24.013999337135813\n",
       ":   7.3450681849718314\n",
       ":   15.402791505091315\n",
       ":   -17.46323911493316\n",
       ":   7.8023258255028917\n",
       ":   4.5449263053728918\n",
       ":   -6.1707389059825619\n",
       ":   11.32147186579720\n",
       ":   13.878818993831121\n",
       ":   -5.7500129111745122\n",
       ":   14.222290878088423\n",
       ":   -16.084731729936524\n",
       ":   -18.027008409817125\n",
       ":   -2.6622624816726926\n",
       ":   -26.985650293127927\n",
       ":   7.7236579394588628\n",
       ":   -14.788131629423929\n",
       ":   2.6576868295429430\n",
       ":   -7.7978927456136531\n",
       ":   -18.764617679739732\n",
       ":   -16.799488441497533\n",
       ":   7.2599781320777634\n",
       ":   -11.684041801258635\n",
       ":   -30.444321709152336\n",
       ":   -11.434660143862537\n",
       ":   1.8367651230006538\n",
       ":   -7.3396614172067739\n",
       ":   29.416552961943340\n",
       ":   5.902406754954141\n",
       ":   -10.63950947421142\n",
       ":   25.628724400884543\n",
       ":   5.5010296301867844\n",
       ":   1.669239205860545\n",
       ":   -12.6330221192796\n",
       "\n"
      ],
      "text/plain": [
       "          1           2           3           4           5           6 \n",
       "  9.8642966   5.7074918  15.4125526   3.5515132  48.6707955  -8.2713989 \n",
       "          7           8           9          10          11          12 \n",
       " -1.8693775  17.8665537  20.9552126   0.5987145 -15.1170983 -24.0139993 \n",
       "         13          14          15          16          17          18 \n",
       "  7.3450682  15.4027915 -17.4632391   7.8023258   4.5449263  -6.1707389 \n",
       "         19          20          21          22          23          24 \n",
       " 11.3214719  13.8788190  -5.7500129  14.2222909 -16.0847317 -18.0270084 \n",
       "         25          26          27          28          29          30 \n",
       " -2.6622625 -26.9856503   7.7236579 -14.7881316   2.6576868  -7.7978927 \n",
       "         31          32          33          34          35          36 \n",
       "-18.7646177 -16.7994884   7.2599781 -11.6840418 -30.4443217 -11.4346601 \n",
       "         37          38          39          40          41          42 \n",
       "  1.8367651  -7.3396614  29.4165530   5.9024068 -10.6395095  25.6287244 \n",
       "         43          44          45 \n",
       "  5.5010296   1.6692392 -12.6330221 "
      ]
     },
     "metadata": {},
     "output_type": "display_data"
    },
    {
     "data": {
      "text/html": [
       "<dl class=dl-horizontal>\n",
       "\t<dt>(Intercept)</dt>\n",
       "\t\t<dd>63.9182053054389</dd>\n",
       "\t<dt>Gomez</dt>\n",
       "\t\t<dd>-0.298939557209714</dd>\n",
       "\t<dt>Lerdo</dt>\n",
       "\t\t<dd>-0.0844938496527707</dd>\n",
       "\t<dt>Matamoros</dt>\n",
       "\t\t<dd>0.678290253919276</dd>\n",
       "</dl>\n"
      ],
      "text/latex": [
       "\\begin{description*}\n",
       "\\item[(Intercept)] 63.9182053054389\n",
       "\\item[Gomez] -0.298939557209714\n",
       "\\item[Lerdo] -0.0844938496527707\n",
       "\\item[Matamoros] 0.678290253919276\n",
       "\\end{description*}\n"
      ],
      "text/markdown": [
       "(Intercept)\n",
       ":   63.9182053054389Gomez\n",
       ":   -0.298939557209714Lerdo\n",
       ":   -0.0844938496527707Matamoros\n",
       ":   0.678290253919276\n",
       "\n"
      ],
      "text/plain": [
       "(Intercept)       Gomez       Lerdo   Matamoros \n",
       "63.91820531 -0.29893956 -0.08449385  0.67829025 "
      ]
     },
     "metadata": {},
     "output_type": "display_data"
    }
   ],
   "source": [
    "residuals(reg)\n",
    "\n",
    "coefficients(reg)"
   ]
  },
  {
   "cell_type": "markdown",
   "metadata": {},
   "source": [
    "También es posible ver la correlación entre dos variables con cor(), para el caso de nuestras variables, la correlación entre robos a casa habitación es negativa."
   ]
  },
  {
   "cell_type": "code",
   "execution_count": 29,
   "metadata": {},
   "outputs": [
    {
     "data": {
      "text/html": [
       "-0.198283461179998"
      ],
      "text/latex": [
       "-0.198283461179998"
      ],
      "text/markdown": [
       "-0.198283461179998"
      ],
      "text/plain": [
       "[1] -0.1982835"
      ]
     },
     "metadata": {},
     "output_type": "display_data"
    }
   ],
   "source": [
    "cor(roboscasa$Torreon, roboscasa$Gomez)"
   ]
  },
  {
   "cell_type": "markdown",
   "metadata": {},
   "source": [
    "Pero las regresiones y el análisis de los datos es explorar las diferentes combinaciones que pueden existir y las causas detrás. Es por eso que necesitamos correr varias regresiones para analizar los resultados y estimar el modelo que más se adapte a la realidad o concluir que no existe algún tipo de relación entre las variables.\n",
    "\n",
    "Especificamos otro modelo como $r2$ con solo las variables de Torreón y Gomez."
   ]
  },
  {
   "cell_type": "code",
   "execution_count": null,
   "metadata": {
    "collapsed": true
   },
   "outputs": [],
   "source": [
    "r2 <- lm(Torreon ~ Gomez, data = roboscasa)\n",
    "r2\n",
    "summary(r2)\n",
    "plot(r2)\n",
    "\n",
    "r3 <- lm(Gomez ~ Torreon, data = roboscasa)\n",
    "r3\n",
    "summary(r3)\n",
    "\n",
    "r4 <- lm(Torreon ~ Gomez + Lerdo + Matamoros -1, data = roboscasa)\n",
    "r4\n",
    "summary(r4)"
   ]
  },
  {
   "cell_type": "markdown",
   "metadata": {},
   "source": []
  }
 ],
 "metadata": {
  "kernelspec": {
   "display_name": "R",
   "language": "R",
   "name": "ir"
  },
  "language_info": {
   "codemirror_mode": "r",
   "file_extension": ".r",
   "mimetype": "text/x-r-source",
   "name": "R",
   "pygments_lexer": "r",
   "version": "3.4.2"
  }
 },
 "nbformat": 4,
 "nbformat_minor": 2
}
